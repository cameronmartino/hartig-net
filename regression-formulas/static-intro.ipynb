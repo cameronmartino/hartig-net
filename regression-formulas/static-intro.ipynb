{
 "cells": [
  {
   "cell_type": "code",
   "execution_count": 161,
   "metadata": {},
   "outputs": [],
   "source": [
    "import numpy as np\n",
    "import pandas as pd\n",
    "\n",
    "import scipy as sp\n",
    "import statsmodels.api as sm\n",
    "import statsmodels.formula.api as smf\n",
    "from patsy.contrasts import Diff\n",
    "\n",
    "import matplotlib\n",
    "import seaborn as sns\n",
    "import matplotlib.pyplot as plt\n",
    "\n",
    "plt.style.use('ggplot')\n",
    "%matplotlib inline"
   ]
  },
  {
   "cell_type": "markdown",
   "metadata": {},
   "source": [
    "# Formulas\n",
    "\n",
    "Uses [patsy](https://patsy.readthedocs.io/en/latest/formulas.html)\n",
    "\n",
    "* (~) Separates the left-hand side and right-hand side of a formula. Optional. If not present, then the formula is considered to contain a right-hand side only.\n",
    "* (+) Takes the set of terms given on the left and the set of terms given on the right, and returns a set of terms that combines both (i.e., it computes a set union). Note that this means that a + a is just a.\n",
    "* (-) Takes the set of terms given on the left and removes any terms which are given on the right (i.e., it computes a set difference).\n",
    "* (\\*) a \\* b is short-hand for a + b + a:b, and is useful for the common case of wanting to include all interactions between a set of variables while partitioning their variance between lower- and higher-order interactions. (Standard ANOVA models are of the form a \\* b \\* c \\* ....)\n",
    "\n",
    "\n",
    "# Example Dataset\n",
    "\n",
    "The \"mtcars\" data was extracted from the 1974 Motor Trend US magazine, and comprises fuel consumption and 10 aspects of automobile design and performance for 32 automobiles (1973–74 models).\n",
    "\n",
    "\n",
    "data has 32 observations on 11 (numeric) variables.\n",
    "\n",
    "* mpg\t- Miles/(US) gallon\n",
    "* cyl\t- Number of cylinders\n",
    "* disp\t- Displacement (cu.in.)\n",
    "* hp\t- Gross horsepower\n",
    "* drat\t- Rear axle ratio\n",
    "* wt\t- Weight (1000 lbs)\n",
    "* qsec\t- 1/4 mile time\n",
    "* vs\t- Engine (0 = V-shaped, 1 = straight)\n",
    "* am\t- Transmission (0 = automatic, 1 = manual)\n",
    "* gear\t- Number of forward gears\n",
    "* carb\t- Number of carburetors\n",
    "\n",
    "First, import the data."
   ]
  },
  {
   "cell_type": "code",
   "execution_count": 24,
   "metadata": {},
   "outputs": [
    {
     "data": {
      "text/html": [
       "<div>\n",
       "<style scoped>\n",
       "    .dataframe tbody tr th:only-of-type {\n",
       "        vertical-align: middle;\n",
       "    }\n",
       "\n",
       "    .dataframe tbody tr th {\n",
       "        vertical-align: top;\n",
       "    }\n",
       "\n",
       "    .dataframe thead th {\n",
       "        text-align: right;\n",
       "    }\n",
       "</style>\n",
       "<table border=\"1\" class=\"dataframe\">\n",
       "  <thead>\n",
       "    <tr style=\"text-align: right;\">\n",
       "      <th></th>\n",
       "      <th>mpg</th>\n",
       "      <th>cyl</th>\n",
       "      <th>disp</th>\n",
       "      <th>hp</th>\n",
       "      <th>drat</th>\n",
       "      <th>wt</th>\n",
       "      <th>qsec</th>\n",
       "      <th>vs</th>\n",
       "      <th>am</th>\n",
       "      <th>gear</th>\n",
       "      <th>carb</th>\n",
       "    </tr>\n",
       "  </thead>\n",
       "  <tbody>\n",
       "    <tr>\n",
       "      <th>Mazda RX4</th>\n",
       "      <td>21.0</td>\n",
       "      <td>6</td>\n",
       "      <td>160.0</td>\n",
       "      <td>110</td>\n",
       "      <td>3.90</td>\n",
       "      <td>2.620</td>\n",
       "      <td>16.46</td>\n",
       "      <td>0</td>\n",
       "      <td>1</td>\n",
       "      <td>4</td>\n",
       "      <td>4</td>\n",
       "    </tr>\n",
       "    <tr>\n",
       "      <th>Mazda RX4 Wag</th>\n",
       "      <td>21.0</td>\n",
       "      <td>6</td>\n",
       "      <td>160.0</td>\n",
       "      <td>110</td>\n",
       "      <td>3.90</td>\n",
       "      <td>2.875</td>\n",
       "      <td>17.02</td>\n",
       "      <td>0</td>\n",
       "      <td>1</td>\n",
       "      <td>4</td>\n",
       "      <td>4</td>\n",
       "    </tr>\n",
       "    <tr>\n",
       "      <th>Datsun 710</th>\n",
       "      <td>22.8</td>\n",
       "      <td>4</td>\n",
       "      <td>108.0</td>\n",
       "      <td>93</td>\n",
       "      <td>3.85</td>\n",
       "      <td>2.320</td>\n",
       "      <td>18.61</td>\n",
       "      <td>1</td>\n",
       "      <td>1</td>\n",
       "      <td>4</td>\n",
       "      <td>1</td>\n",
       "    </tr>\n",
       "    <tr>\n",
       "      <th>Hornet 4 Drive</th>\n",
       "      <td>21.4</td>\n",
       "      <td>6</td>\n",
       "      <td>258.0</td>\n",
       "      <td>110</td>\n",
       "      <td>3.08</td>\n",
       "      <td>3.215</td>\n",
       "      <td>19.44</td>\n",
       "      <td>1</td>\n",
       "      <td>0</td>\n",
       "      <td>3</td>\n",
       "      <td>1</td>\n",
       "    </tr>\n",
       "    <tr>\n",
       "      <th>Hornet Sportabout</th>\n",
       "      <td>18.7</td>\n",
       "      <td>8</td>\n",
       "      <td>360.0</td>\n",
       "      <td>175</td>\n",
       "      <td>3.15</td>\n",
       "      <td>3.440</td>\n",
       "      <td>17.02</td>\n",
       "      <td>0</td>\n",
       "      <td>0</td>\n",
       "      <td>3</td>\n",
       "      <td>2</td>\n",
       "    </tr>\n",
       "    <tr>\n",
       "      <th>Valiant</th>\n",
       "      <td>18.1</td>\n",
       "      <td>6</td>\n",
       "      <td>225.0</td>\n",
       "      <td>105</td>\n",
       "      <td>2.76</td>\n",
       "      <td>3.460</td>\n",
       "      <td>20.22</td>\n",
       "      <td>1</td>\n",
       "      <td>0</td>\n",
       "      <td>3</td>\n",
       "      <td>1</td>\n",
       "    </tr>\n",
       "    <tr>\n",
       "      <th>Duster 360</th>\n",
       "      <td>14.3</td>\n",
       "      <td>8</td>\n",
       "      <td>360.0</td>\n",
       "      <td>245</td>\n",
       "      <td>3.21</td>\n",
       "      <td>3.570</td>\n",
       "      <td>15.84</td>\n",
       "      <td>0</td>\n",
       "      <td>0</td>\n",
       "      <td>3</td>\n",
       "      <td>4</td>\n",
       "    </tr>\n",
       "    <tr>\n",
       "      <th>Merc 240D</th>\n",
       "      <td>24.4</td>\n",
       "      <td>4</td>\n",
       "      <td>146.7</td>\n",
       "      <td>62</td>\n",
       "      <td>3.69</td>\n",
       "      <td>3.190</td>\n",
       "      <td>20.00</td>\n",
       "      <td>1</td>\n",
       "      <td>0</td>\n",
       "      <td>4</td>\n",
       "      <td>2</td>\n",
       "    </tr>\n",
       "    <tr>\n",
       "      <th>Merc 230</th>\n",
       "      <td>22.8</td>\n",
       "      <td>4</td>\n",
       "      <td>140.8</td>\n",
       "      <td>95</td>\n",
       "      <td>3.92</td>\n",
       "      <td>3.150</td>\n",
       "      <td>22.90</td>\n",
       "      <td>1</td>\n",
       "      <td>0</td>\n",
       "      <td>4</td>\n",
       "      <td>2</td>\n",
       "    </tr>\n",
       "    <tr>\n",
       "      <th>Merc 280</th>\n",
       "      <td>19.2</td>\n",
       "      <td>6</td>\n",
       "      <td>167.6</td>\n",
       "      <td>123</td>\n",
       "      <td>3.92</td>\n",
       "      <td>3.440</td>\n",
       "      <td>18.30</td>\n",
       "      <td>1</td>\n",
       "      <td>0</td>\n",
       "      <td>4</td>\n",
       "      <td>4</td>\n",
       "    </tr>\n",
       "  </tbody>\n",
       "</table>\n",
       "</div>"
      ],
      "text/plain": [
       "                    mpg  cyl   disp   hp  drat     wt   qsec  vs  am  gear  \\\n",
       "Mazda RX4          21.0    6  160.0  110  3.90  2.620  16.46   0   1     4   \n",
       "Mazda RX4 Wag      21.0    6  160.0  110  3.90  2.875  17.02   0   1     4   \n",
       "Datsun 710         22.8    4  108.0   93  3.85  2.320  18.61   1   1     4   \n",
       "Hornet 4 Drive     21.4    6  258.0  110  3.08  3.215  19.44   1   0     3   \n",
       "Hornet Sportabout  18.7    8  360.0  175  3.15  3.440  17.02   0   0     3   \n",
       "Valiant            18.1    6  225.0  105  2.76  3.460  20.22   1   0     3   \n",
       "Duster 360         14.3    8  360.0  245  3.21  3.570  15.84   0   0     3   \n",
       "Merc 240D          24.4    4  146.7   62  3.69  3.190  20.00   1   0     4   \n",
       "Merc 230           22.8    4  140.8   95  3.92  3.150  22.90   1   0     4   \n",
       "Merc 280           19.2    6  167.6  123  3.92  3.440  18.30   1   0     4   \n",
       "\n",
       "                   carb  \n",
       "Mazda RX4             4  \n",
       "Mazda RX4 Wag         4  \n",
       "Datsun 710            1  \n",
       "Hornet 4 Drive        1  \n",
       "Hornet Sportabout     2  \n",
       "Valiant               1  \n",
       "Duster 360            4  \n",
       "Merc 240D             2  \n",
       "Merc 230              2  \n",
       "Merc 280              4  "
      ]
     },
     "execution_count": 24,
     "metadata": {},
     "output_type": "execute_result"
    }
   ],
   "source": [
    "mtcars = sm.datasets.get_rdataset(\"mtcars\", \"datasets\", cache=True).data\n",
    "mtcars.head(10)\n"
   ]
  },
  {
   "cell_type": "markdown",
   "metadata": {},
   "source": [
    "We want to see if the miles per gallon $(mpg)$ of each car changes by the weight $(wt)$ and by the cylinders $(cyl)$ of the engine. We will explore these relationships using OLS regression but we should first visualize the relationship.\n"
   ]
  },
  {
   "cell_type": "code",
   "execution_count": 107,
   "metadata": {
    "scrolled": false
   },
   "outputs": [
    {
     "data": {
      "image/png": "[encoded data removed]",
      "text/plain": [
       "<Figure size 402.375x360 with 1 Axes>"
      ]
     },
     "metadata": {
      "needs_background": "light"
     },
     "output_type": "display_data"
    }
   ],
   "source": [
    "\n",
    "sns.lmplot(x='wt', y='mpg', hue='cyl' ,data = mtcars)\n",
    "plt.show()"
   ]
  },
  {
   "cell_type": "markdown",
   "metadata": {},
   "source": [
    "Now we want to transfer our hypothesis about the relationship between the \"response variable\" mpg and the covariates wt and cyl. This equation can be written as:\n",
    "\n",
    "$$mpg=\\beta_{0}+\\beta_{1}wt+\\beta_{2}cyl$$\n",
    "\n",
    "Using the formula components described in [patsy](https://patsy.readthedocs.io/en/latest/formulas.html) we write the following formula:\n"
   ]
  },
  {
   "cell_type": "code",
   "execution_count": 163,
   "metadata": {},
   "outputs": [
    {
     "data": {
      "text/plain": [
       "'mpg ~ wt + cyl'"
      ]
     },
     "execution_count": 163,
     "metadata": {},
     "output_type": "execute_result"
    }
   ],
   "source": [
    "fml = 'mpg ~ wt + cyl'\n",
    "fml"
   ]
  },
  {
   "cell_type": "markdown",
   "metadata": {},
   "source": [
    "Now using statsmodel's ols implementation we will fit our model to the data."
   ]
  },
  {
   "cell_type": "code",
   "execution_count": 165,
   "metadata": {},
   "outputs": [],
   "source": [
    "md = smf.ols(fml, mtcars)\n",
    "mdf = md.fit()"
   ]
  },
  {
   "cell_type": "markdown",
   "metadata": {},
   "source": [
    "First we should visualize the residuals."
   ]
  },
  {
   "cell_type": "code",
   "execution_count": 166,
   "metadata": {},
   "outputs": [
    {
     "data": {
      "image/png": "[encoded data removed]",
      "text/plain": [
       "<Figure size 360x360 with 1 Axes>"
      ]
     },
     "metadata": {
      "needs_background": "light"
     },
     "output_type": "display_data"
    }
   ],
   "source": [
    "fig, ax = plt.subplots(1,1,figsize=(5,5))\n",
    "\n",
    "_, (__, ___, r) = sp.stats.probplot(mdf.resid, plot=ax, fit=True)\n",
    "ax.annotate('$R^{2}$=%.2f'%(r**2), (.1,.8), fontsize=25\n",
    "            ,xycoords = 'axes fraction')\n",
    "ax.set_title('Residuals Plot',\n",
    "             fontsize=22)\n",
    "ax.set_xlabel('Theoretical',\n",
    "             fontsize=22,\n",
    "              c='black')\n",
    "ax.set_ylabel('Observed',\n",
    "              fontsize=22,\n",
    "              c='black')\n",
    "plt.show()"
   ]
  },
  {
   "cell_type": "markdown",
   "metadata": {},
   "source": [
    "The $R^{2}$ value looks good so now we should explore the other measures of model quality."
   ]
  },
  {
   "cell_type": "code",
   "execution_count": 167,
   "metadata": {},
   "outputs": [
    {
     "data": {
      "text/html": [
       "<table class=\"simpletable\">\n",
       "<caption>OLS Regression Results</caption>\n",
       "<tr>\n",
       "  <th>Dep. Variable:</th>           <td>mpg</td>       <th>  R-squared:         </th> <td>   0.830</td>\n",
       "</tr>\n",
       "<tr>\n",
       "  <th>Model:</th>                   <td>OLS</td>       <th>  Adj. R-squared:    </th> <td>   0.819</td>\n",
       "</tr>\n",
       "<tr>\n",
       "  <th>Method:</th>             <td>Least Squares</td>  <th>  F-statistic:       </th> <td>   70.91</td>\n",
       "</tr>\n",
       "<tr>\n",
       "  <th>Date:</th>             <td>Tue, 15 Oct 2019</td> <th>  Prob (F-statistic):</th> <td>6.81e-12</td>\n",
       "</tr>\n",
       "<tr>\n",
       "  <th>Time:</th>                 <td>13:56:59</td>     <th>  Log-Likelihood:    </th> <td> -74.005</td>\n",
       "</tr>\n",
       "<tr>\n",
       "  <th>No. Observations:</th>      <td>    32</td>      <th>  AIC:               </th> <td>   154.0</td>\n",
       "</tr>\n",
       "<tr>\n",
       "  <th>Df Residuals:</th>          <td>    29</td>      <th>  BIC:               </th> <td>   158.4</td>\n",
       "</tr>\n",
       "<tr>\n",
       "  <th>Df Model:</th>              <td>     2</td>      <th>                     </th>     <td> </td>   \n",
       "</tr>\n",
       "<tr>\n",
       "  <th>Covariance Type:</th>      <td>nonrobust</td>    <th>                     </th>     <td> </td>   \n",
       "</tr>\n",
       "</table>"
      ],
      "text/plain": [
       "<class 'statsmodels.iolib.table.SimpleTable'>"
      ]
     },
     "execution_count": 167,
     "metadata": {},
     "output_type": "execute_result"
    }
   ],
   "source": [
    "mdf.summary().tables[0]"
   ]
  },
  {
   "cell_type": "markdown",
   "metadata": {},
   "source": [
    "The model seems to have fit well, so now we can explore the results."
   ]
  },
  {
   "cell_type": "code",
   "execution_count": 112,
   "metadata": {},
   "outputs": [
    {
     "data": {
      "text/html": [
       "<table class=\"simpletable\">\n",
       "<tr>\n",
       "      <td></td>         <th>coef</th>     <th>std err</th>      <th>t</th>      <th>P>|t|</th>  <th>[0.025</th>    <th>0.975]</th>  \n",
       "</tr>\n",
       "<tr>\n",
       "  <th>Intercept</th> <td>   39.6863</td> <td>    1.715</td> <td>   23.141</td> <td> 0.000</td> <td>   36.179</td> <td>   43.194</td>\n",
       "</tr>\n",
       "<tr>\n",
       "  <th>wt</th>        <td>   -3.1910</td> <td>    0.757</td> <td>   -4.216</td> <td> 0.000</td> <td>   -4.739</td> <td>   -1.643</td>\n",
       "</tr>\n",
       "<tr>\n",
       "  <th>cyl</th>       <td>   -1.5078</td> <td>    0.415</td> <td>   -3.636</td> <td> 0.001</td> <td>   -2.356</td> <td>   -0.660</td>\n",
       "</tr>\n",
       "</table>"
      ],
      "text/plain": [
       "<class 'statsmodels.iolib.table.SimpleTable'>"
      ]
     },
     "execution_count": 112,
     "metadata": {},
     "output_type": "execute_result"
    }
   ],
   "source": [
    "mdf.summary().tables[1]"
   ]
  },
  {
   "cell_type": "markdown",
   "metadata": {},
   "source": [
    "Given the coefficients of the model we can rewrite our initial formula as \n",
    "\n",
    "$$mpg=39.68-3.19wt-1.5cyl$$\n",
    "\n",
    "The coefficients of the model can be read as follows:\n",
    "\n",
    "For every unit cyl increase, with weight being constant the mpg increases by ~1.5\n",
    "For every unit wt increase, with cyl being constant the mpg increases by ~3.19\n",
    "    \n",
    "If we had a car with zero weight and zero cyl we would expect it to have ~40 mpg -- which does not make much sense.\n",
    "\n",
    "We also note that the coefficients for wt and cyl have significant p-values (at the common alpha level of 0.05). \n",
    "Thus in both cases we reject the null hypothesis.\n",
    "\n",
    "This all seems great but what if we think there is an interaction between the weight and cyl terms. \n",
    "\n",
    "By saying these terms are interacting we mean that we believe the relationship between weight and mpg is different for varying cyl.\n",
    "\n",
    "In order to add this interaction term we use `:` or `*` both can be use equivalently in the following:\n",
    "\n",
    "```python\n",
    "\"mpg ~ wt + cyl + wt:cyl\"\n",
    "```\n",
    "\n",
    "is the same as \n",
    "\n",
    "```python\n",
    "\"mpg ~ wt * cyl\"\n",
    "```\n",
    "\n",
    "which mathematically gives us the formula:\n",
    "\n",
    "$$mpg=\\beta_{0}+\\beta_{1}wt+\\beta_{2}cyl+\\beta_{3}\\,wt\\,cyl$$\n",
    "\n",
    "Personally, I like to write it long hand as:"
   ]
  },
  {
   "cell_type": "code",
   "execution_count": 168,
   "metadata": {},
   "outputs": [
    {
     "data": {
      "text/plain": [
       "'mpg ~ wt + cyl + wt:cyl'"
      ]
     },
     "execution_count": 168,
     "metadata": {},
     "output_type": "execute_result"
    }
   ],
   "source": [
    "fml = \"mpg ~ wt + cyl + wt:cyl\"\n",
    "fml"
   ]
  },
  {
   "cell_type": "markdown",
   "metadata": {},
   "source": [
    "Now we will fit the model with the new formula and explore the model fit the same as above."
   ]
  },
  {
   "cell_type": "code",
   "execution_count": 169,
   "metadata": {},
   "outputs": [],
   "source": [
    "md = smf.ols(fml, mtcars)\n",
    "mdf = md.fit()"
   ]
  },
  {
   "cell_type": "code",
   "execution_count": 170,
   "metadata": {},
   "outputs": [
    {
     "data": {
      "image/png": "[encoded data removed]",
      "text/plain": [
       "<Figure size 360x360 with 1 Axes>"
      ]
     },
     "metadata": {
      "needs_background": "light"
     },
     "output_type": "display_data"
    }
   ],
   "source": [
    "fig, ax = plt.subplots(1,1,figsize=(5,5))\n",
    "\n",
    "_, (__, ___, r) = sp.stats.probplot(mdf.resid, plot=ax, fit=True)\n",
    "ax.annotate('$R^{2}$=%.2f'%(r**2), (.1,.8), fontsize=25\n",
    "            ,xycoords = 'axes fraction')\n",
    "ax.set_title('Residuals Plot',\n",
    "             fontsize=22)\n",
    "ax.set_xlabel('Theoretical',\n",
    "             fontsize=22,\n",
    "              c='black')\n",
    "ax.set_ylabel('Observed',\n",
    "              fontsize=22,\n",
    "              c='black')\n",
    "plt.show()"
   ]
  },
  {
   "cell_type": "code",
   "execution_count": 171,
   "metadata": {},
   "outputs": [
    {
     "data": {
      "text/html": [
       "<table class=\"simpletable\">\n",
       "<caption>OLS Regression Results</caption>\n",
       "<tr>\n",
       "  <th>Dep. Variable:</th>           <td>mpg</td>       <th>  R-squared:         </th> <td>   0.861</td>\n",
       "</tr>\n",
       "<tr>\n",
       "  <th>Model:</th>                   <td>OLS</td>       <th>  Adj. R-squared:    </th> <td>   0.846</td>\n",
       "</tr>\n",
       "<tr>\n",
       "  <th>Method:</th>             <td>Least Squares</td>  <th>  F-statistic:       </th> <td>   57.62</td>\n",
       "</tr>\n",
       "<tr>\n",
       "  <th>Date:</th>             <td>Tue, 15 Oct 2019</td> <th>  Prob (F-statistic):</th> <td>4.23e-12</td>\n",
       "</tr>\n",
       "<tr>\n",
       "  <th>Time:</th>                 <td>14:00:12</td>     <th>  Log-Likelihood:    </th> <td> -70.852</td>\n",
       "</tr>\n",
       "<tr>\n",
       "  <th>No. Observations:</th>      <td>    32</td>      <th>  AIC:               </th> <td>   149.7</td>\n",
       "</tr>\n",
       "<tr>\n",
       "  <th>Df Residuals:</th>          <td>    28</td>      <th>  BIC:               </th> <td>   155.6</td>\n",
       "</tr>\n",
       "<tr>\n",
       "  <th>Df Model:</th>              <td>     3</td>      <th>                     </th>     <td> </td>   \n",
       "</tr>\n",
       "<tr>\n",
       "  <th>Covariance Type:</th>      <td>nonrobust</td>    <th>                     </th>     <td> </td>   \n",
       "</tr>\n",
       "</table>"
      ],
      "text/plain": [
       "<class 'statsmodels.iolib.table.SimpleTable'>"
      ]
     },
     "execution_count": 171,
     "metadata": {},
     "output_type": "execute_result"
    }
   ],
   "source": [
    "mdf.summary().tables[0]"
   ]
  },
  {
   "cell_type": "markdown",
   "metadata": {},
   "source": [
    "Our model fit improved significantly -- this is our first sign that we are on to something. Let's look at the model results (Note: we will now have a new interaction term called `wt:cyl`)."
   ]
  },
  {
   "cell_type": "code",
   "execution_count": 143,
   "metadata": {},
   "outputs": [
    {
     "data": {
      "text/html": [
       "<table class=\"simpletable\">\n",
       "<tr>\n",
       "      <td></td>         <th>coef</th>     <th>std err</th>      <th>t</th>      <th>P>|t|</th>  <th>[0.025</th>    <th>0.975]</th>  \n",
       "</tr>\n",
       "<tr>\n",
       "  <th>Intercept</th> <td>   54.3068</td> <td>    6.128</td> <td>    8.863</td> <td> 0.000</td> <td>   41.755</td> <td>   66.858</td>\n",
       "</tr>\n",
       "<tr>\n",
       "  <th>wt</th>        <td>   -8.6556</td> <td>    2.320</td> <td>   -3.731</td> <td> 0.001</td> <td>  -13.408</td> <td>   -3.903</td>\n",
       "</tr>\n",
       "<tr>\n",
       "  <th>cyl</th>       <td>   -3.8032</td> <td>    1.005</td> <td>   -3.784</td> <td> 0.001</td> <td>   -5.862</td> <td>   -1.745</td>\n",
       "</tr>\n",
       "<tr>\n",
       "  <th>wt:cyl</th>    <td>    0.8084</td> <td>    0.327</td> <td>    2.470</td> <td> 0.020</td> <td>    0.138</td> <td>    1.479</td>\n",
       "</tr>\n",
       "</table>"
      ],
      "text/plain": [
       "<class 'statsmodels.iolib.table.SimpleTable'>"
      ]
     },
     "execution_count": 143,
     "metadata": {},
     "output_type": "execute_result"
    }
   ],
   "source": [
    "mdf.summary().tables[1]"
   ]
  },
  {
   "cell_type": "markdown",
   "metadata": {},
   "source": [
    "n contrast to the previous formulation, our new formulation (using the equation above) is:\n",
    "\n",
    "$$mpg=54.306-8.6556 wt-3.8032\\,cyl+0.8084\\,wt\\,cyl$$\n",
    "\n",
    "Turning this into statements we say:\n",
    "\n",
    "For a unit increase in weight, with zero cyl, mpg decreases by 8.6556\n",
    "\n",
    "For a unit increase in cyl, with zero weight, mpg decreases by 3.8032\n",
    "\n",
    "For the interaction terms we say:\n",
    "\n",
    "For a unit increase in weight, mpg changes by -8.6556 + 0.8084 cyl\n",
    "\n",
    "For a unit increase in cyl, mpg changes by -3.8032 + 0.8084 wt\n",
    "\n",
    "\n",
    "We also note that the interaction coef for wt and cyl have significant p-values. Therefore we need to visualize this interaction. \n"
   ]
  },
  {
   "cell_type": "code",
   "execution_count": 144,
   "metadata": {},
   "outputs": [
    {
     "data": {
      "image/png": "[encoded data removed]",
      "text/plain": [
       "<Figure size 1080x360 with 3 Axes>"
      ]
     },
     "metadata": {
      "needs_background": "light"
     },
     "output_type": "display_data"
    }
   ],
   "source": [
    "fig, ax = plt.subplots(1,3,figsize=(15,5))\n",
    "\n",
    "for ax, (pk,pdf) in zip(ax.flatten(), mtcars.groupby('cyl')):\n",
    "\n",
    "    sns.regplot(x='wt', y='mpg', data = pdf, ax=ax)\n",
    "    ax.set_title('Number of cylinders: %i'%(pk))\n",
    "\n",
    "plt.show()"
   ]
  },
  {
   "cell_type": "markdown",
   "metadata": {},
   "source": [
    "From these plots it seems that mpg vs. wt has a stronger relationship in 4 cyl than in 6 and 8.\n",
    "\n",
    "If we want to explicitly separate each cylinder out we need to use a Diff formula. This can be written as:\n",
    "\n",
    "```python\n",
    "\"mpg ~ wt + C(cyl, Diff, levels=[6, 8, 4]) + wt:C(cyl, Diff, levels=[6, 8, 4])\"\n",
    "```\n",
    "\n",
    "This will compare 6 cyl to 4 cyl and then 8 cyl to 4 cyl."
   ]
  },
  {
   "cell_type": "code",
   "execution_count": 172,
   "metadata": {},
   "outputs": [
    {
     "data": {
      "text/plain": [
       "'mpg ~ wt + C(cyl, Diff, levels=[6, 8, 4]) + wt:C(cyl, Diff, levels=[6, 8, 4])'"
      ]
     },
     "execution_count": 172,
     "metadata": {},
     "output_type": "execute_result"
    }
   ],
   "source": [
    "fml = \"mpg ~ wt + C(cyl, Diff, levels=[6, 8, 4]) + wt:C(cyl, Diff, levels=[6, 8, 4])\"\n",
    "fml"
   ]
  },
  {
   "cell_type": "code",
   "execution_count": 173,
   "metadata": {},
   "outputs": [
    {
     "data": {
      "image/png": "[encoded data removed]",
      "text/plain": [
       "<Figure size 360x360 with 1 Axes>"
      ]
     },
     "metadata": {
      "needs_background": "light"
     },
     "output_type": "display_data"
    }
   ],
   "source": [
    "md = smf.ols(fml, mtcars)\n",
    "mdf = md.fit()\n",
    "\n",
    "fig, ax = plt.subplots(1,1,figsize=(5,5))\n",
    "\n",
    "_, (__, ___, r) = sp.stats.probplot(mdf.resid, plot=ax, fit=True)\n",
    "ax.annotate('$R^{2}$=%.2f'%(r**2), (.1,.8), fontsize=25\n",
    "            ,xycoords = 'axes fraction')\n",
    "ax.set_title('Residuals Plot',\n",
    "             fontsize=22)\n",
    "ax.set_xlabel('Theoretical',\n",
    "             fontsize=22,\n",
    "              c='black')\n",
    "ax.set_ylabel('Observed',\n",
    "              fontsize=22,\n",
    "              c='black')\n",
    "plt.show()"
   ]
  },
  {
   "cell_type": "code",
   "execution_count": 174,
   "metadata": {},
   "outputs": [
    {
     "data": {
      "text/html": [
       "<table class=\"simpletable\">\n",
       "<caption>OLS Regression Results</caption>\n",
       "<tr>\n",
       "  <th>Dep. Variable:</th>           <td>mpg</td>       <th>  R-squared:         </th> <td>   0.862</td>\n",
       "</tr>\n",
       "<tr>\n",
       "  <th>Model:</th>                   <td>OLS</td>       <th>  Adj. R-squared:    </th> <td>   0.835</td>\n",
       "</tr>\n",
       "<tr>\n",
       "  <th>Method:</th>             <td>Least Squares</td>  <th>  F-statistic:       </th> <td>   32.36</td>\n",
       "</tr>\n",
       "<tr>\n",
       "  <th>Date:</th>             <td>Tue, 15 Oct 2019</td> <th>  Prob (F-statistic):</th> <td>2.26e-10</td>\n",
       "</tr>\n",
       "<tr>\n",
       "  <th>Time:</th>                 <td>14:11:04</td>     <th>  Log-Likelihood:    </th> <td> -70.741</td>\n",
       "</tr>\n",
       "<tr>\n",
       "  <th>No. Observations:</th>      <td>    32</td>      <th>  AIC:               </th> <td>   153.5</td>\n",
       "</tr>\n",
       "<tr>\n",
       "  <th>Df Residuals:</th>          <td>    26</td>      <th>  BIC:               </th> <td>   162.3</td>\n",
       "</tr>\n",
       "<tr>\n",
       "  <th>Df Model:</th>              <td>     5</td>      <th>                     </th>     <td> </td>   \n",
       "</tr>\n",
       "<tr>\n",
       "  <th>Covariance Type:</th>      <td>nonrobust</td>    <th>                     </th>     <td> </td>   \n",
       "</tr>\n",
       "</table>"
      ],
      "text/plain": [
       "<class 'statsmodels.iolib.table.SimpleTable'>"
      ]
     },
     "execution_count": 174,
     "metadata": {},
     "output_type": "execute_result"
    }
   ],
   "source": [
    "mdf.summary().tables[0]"
   ]
  },
  {
   "cell_type": "code",
   "execution_count": 160,
   "metadata": {},
   "outputs": [
    {
     "data": {
      "text/html": [
       "<table class=\"simpletable\">\n",
       "<tr>\n",
       "                     <td></td>                       <th>coef</th>     <th>std err</th>      <th>t</th>      <th>P>|t|</th>  <th>[0.025</th>    <th>0.975]</th>  \n",
       "</tr>\n",
       "<tr>\n",
       "  <th>Intercept</th>                              <td>   30.6160</td> <td>    3.346</td> <td>    9.151</td> <td> 0.000</td> <td>   23.739</td> <td>   37.493</td>\n",
       "</tr>\n",
       "<tr>\n",
       "  <th>C(cyl, Diff, levels=[6, 8, 4])[D.6]</th>    <td>   -4.5408</td> <td>    9.515</td> <td>   -0.477</td> <td> 0.637</td> <td>  -24.100</td> <td>   15.018</td>\n",
       "</tr>\n",
       "<tr>\n",
       "  <th>C(cyl, Diff, levels=[6, 8, 4])[D.8]</th>    <td>   15.7032</td> <td>    4.839</td> <td>    3.245</td> <td> 0.003</td> <td>    5.756</td> <td>   25.651</td>\n",
       "</tr>\n",
       "<tr>\n",
       "  <th>wt</th>                                     <td>   -3.5399</td> <td>    1.081</td> <td>   -3.275</td> <td> 0.003</td> <td>   -5.762</td> <td>   -1.318</td>\n",
       "</tr>\n",
       "<tr>\n",
       "  <th>wt:C(cyl, Diff, levels=[6, 8, 4])[D.6]</th> <td>    0.5877</td> <td>    2.944</td> <td>    0.200</td> <td> 0.843</td> <td>   -5.465</td> <td>    6.640</td>\n",
       "</tr>\n",
       "<tr>\n",
       "  <th>wt:C(cyl, Diff, levels=[6, 8, 4])[D.8]</th> <td>   -3.4546</td> <td>    1.627</td> <td>   -2.123</td> <td> 0.043</td> <td>   -6.799</td> <td>   -0.110</td>\n",
       "</tr>\n",
       "</table>"
      ],
      "text/plain": [
       "<class 'statsmodels.iolib.table.SimpleTable'>"
      ]
     },
     "execution_count": 160,
     "metadata": {},
     "output_type": "execute_result"
    }
   ],
   "source": [
    "mdf.summary().tables[1]"
   ]
  },
  {
   "cell_type": "markdown",
   "metadata": {},
   "source": [
    "From both the plot and these results we see that the 8 cyl is significantly different from 4 cyl by mpg and in the interaction of weight and mpg. However 6 cyl is not significant in either comparison."
   ]
  }
 ],
 "metadata": {
  "kernelspec": {
   "display_name": "Python 3",
   "language": "python",
   "name": "python3"
  },
  "language_info": {
   "codemirror_mode": {
    "name": "ipython",
    "version": 3
   },
   "file_extension": ".py",
   "mimetype": "text/x-python",
   "name": "python",
   "nbconvert_exporter": "python",
   "pygments_lexer": "ipython3",
   "version": "3.6.7"
  }
 },
 "nbformat": 4,
 "nbformat_minor": 2
}
