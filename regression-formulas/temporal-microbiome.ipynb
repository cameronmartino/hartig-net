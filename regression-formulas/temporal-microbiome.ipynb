{
 "cells": [
  {
   "cell_type": "code",
   "execution_count": 172,
   "metadata": {},
   "outputs": [],
   "source": [
    "import numpy as np\n",
    "import pandas as pd\n",
    "import qiime2 as q2\n",
    "\n",
    "import scipy as sp\n",
    "import statsmodels.api as sm\n",
    "import statsmodels.formula.api as smf\n",
    "\n",
    "import matplotlib\n",
    "import seaborn as sns\n",
    "import matplotlib.pyplot as plt\n",
    "\n",
    "plt.style.use('ggplot')\n",
    "%matplotlib inline"
   ]
  },
  {
   "cell_type": "markdown",
   "metadata": {},
   "source": [
    "In many cases in we work with dependent data comprised of microbial profiles sampled over time. In order to account for this type of structure we use a LME model (using the REML method). As an example we will follow the q2-longitudinal tutorial using the ECAM dataset (https://docs.qiime2.org/2018.11/tutorials/longitudinal/). We will also use the first-distances generated in that tutorial (pairwise from previous time point). \n"
   ]
  },
  {
   "cell_type": "code",
   "execution_count": 173,
   "metadata": {},
   "outputs": [
    {
     "data": {
      "text/html": [
       "<div>\n",
       "<style scoped>\n",
       "    .dataframe tbody tr th:only-of-type {\n",
       "        vertical-align: middle;\n",
       "    }\n",
       "\n",
       "    .dataframe tbody tr th {\n",
       "        vertical-align: top;\n",
       "    }\n",
       "\n",
       "    .dataframe thead th {\n",
       "        text-align: right;\n",
       "    }\n",
       "</style>\n",
       "<table border=\"1\" class=\"dataframe\">\n",
       "  <thead>\n",
       "    <tr style=\"text-align: right;\">\n",
       "      <th></th>\n",
       "      <th>Distance</th>\n",
       "      <th>antiexposedall</th>\n",
       "      <th>day_of_life</th>\n",
       "      <th>delivery</th>\n",
       "      <th>diet</th>\n",
       "      <th>diet_3</th>\n",
       "      <th>mom_child</th>\n",
       "      <th>month</th>\n",
       "      <th>month_of_life</th>\n",
       "      <th>sample_summary</th>\n",
       "      <th>sex</th>\n",
       "      <th>studyid</th>\n",
       "    </tr>\n",
       "  </thead>\n",
       "  <tbody>\n",
       "    <tr>\n",
       "      <th>10249.C001.03SS</th>\n",
       "      <td>0.848675</td>\n",
       "      <td>n</td>\n",
       "      <td>42.0</td>\n",
       "      <td>Vaginal</td>\n",
       "      <td>bd</td>\n",
       "      <td>eb</td>\n",
       "      <td>C</td>\n",
       "      <td>1.0</td>\n",
       "      <td>1.4</td>\n",
       "      <td>Vaginal.bd.n.0</td>\n",
       "      <td>Female</td>\n",
       "      <td>1</td>\n",
       "    </tr>\n",
       "    <tr>\n",
       "      <th>10249.C002.02SS</th>\n",
       "      <td>0.618251</td>\n",
       "      <td>n</td>\n",
       "      <td>32.0</td>\n",
       "      <td>Cesarean</td>\n",
       "      <td>bd</td>\n",
       "      <td>eb</td>\n",
       "      <td>C</td>\n",
       "      <td>1.0</td>\n",
       "      <td>1.1</td>\n",
       "      <td>Cesarean.bd.n.1</td>\n",
       "      <td>Male</td>\n",
       "      <td>2</td>\n",
       "    </tr>\n",
       "    <tr>\n",
       "      <th>10249.C004.02SS</th>\n",
       "      <td>0.872569</td>\n",
       "      <td>n</td>\n",
       "      <td>31.0</td>\n",
       "      <td>Cesarean</td>\n",
       "      <td>bd</td>\n",
       "      <td>eb</td>\n",
       "      <td>C</td>\n",
       "      <td>1.0</td>\n",
       "      <td>1.0</td>\n",
       "      <td>Cesarean.bd.n.1</td>\n",
       "      <td>Male</td>\n",
       "      <td>4</td>\n",
       "    </tr>\n",
       "    <tr>\n",
       "      <th>10249.C005.03SS</th>\n",
       "      <td>0.814201</td>\n",
       "      <td>n</td>\n",
       "      <td>43.0</td>\n",
       "      <td>Cesarean</td>\n",
       "      <td>fd</td>\n",
       "      <td>fd</td>\n",
       "      <td>C</td>\n",
       "      <td>1.0</td>\n",
       "      <td>1.4</td>\n",
       "      <td>Cesarean.fd.n.1</td>\n",
       "      <td>Female</td>\n",
       "      <td>5</td>\n",
       "    </tr>\n",
       "    <tr>\n",
       "      <th>10249.C007.02SS</th>\n",
       "      <td>0.818699</td>\n",
       "      <td>n</td>\n",
       "      <td>30.0</td>\n",
       "      <td>Cesarean</td>\n",
       "      <td>bd</td>\n",
       "      <td>eb</td>\n",
       "      <td>C</td>\n",
       "      <td>1.0</td>\n",
       "      <td>1.0</td>\n",
       "      <td>Cesarean.bd.n.1</td>\n",
       "      <td>Male</td>\n",
       "      <td>7</td>\n",
       "    </tr>\n",
       "    <tr>\n",
       "      <th>10249.C008.02SS</th>\n",
       "      <td>0.693770</td>\n",
       "      <td>n</td>\n",
       "      <td>31.0</td>\n",
       "      <td>Vaginal</td>\n",
       "      <td>bd</td>\n",
       "      <td>eb</td>\n",
       "      <td>C</td>\n",
       "      <td>1.0</td>\n",
       "      <td>1.0</td>\n",
       "      <td>Vaginal.bd.n.0</td>\n",
       "      <td>Male</td>\n",
       "      <td>8</td>\n",
       "    </tr>\n",
       "    <tr>\n",
       "      <th>10249.C009.02SS</th>\n",
       "      <td>0.868335</td>\n",
       "      <td>n</td>\n",
       "      <td>31.0</td>\n",
       "      <td>Vaginal</td>\n",
       "      <td>bd</td>\n",
       "      <td>eb</td>\n",
       "      <td>C</td>\n",
       "      <td>1.0</td>\n",
       "      <td>1.0</td>\n",
       "      <td>Vaginal.bd.n.0</td>\n",
       "      <td>Male</td>\n",
       "      <td>9</td>\n",
       "    </tr>\n",
       "    <tr>\n",
       "      <th>10249.C010.03SS</th>\n",
       "      <td>0.500147</td>\n",
       "      <td>n</td>\n",
       "      <td>39.0</td>\n",
       "      <td>Vaginal</td>\n",
       "      <td>bd</td>\n",
       "      <td>eb</td>\n",
       "      <td>C</td>\n",
       "      <td>1.0</td>\n",
       "      <td>1.3</td>\n",
       "      <td>Vaginal.fd.n.0</td>\n",
       "      <td>Male</td>\n",
       "      <td>10</td>\n",
       "    </tr>\n",
       "    <tr>\n",
       "      <th>10249.C011.02SS</th>\n",
       "      <td>0.820382</td>\n",
       "      <td>n</td>\n",
       "      <td>36.0</td>\n",
       "      <td>Cesarean</td>\n",
       "      <td>fd</td>\n",
       "      <td>fd</td>\n",
       "      <td>C</td>\n",
       "      <td>1.0</td>\n",
       "      <td>1.2</td>\n",
       "      <td>Cesarean.fd.n.1</td>\n",
       "      <td>Female</td>\n",
       "      <td>11</td>\n",
       "    </tr>\n",
       "    <tr>\n",
       "      <th>10249.C012.02SS</th>\n",
       "      <td>0.565373</td>\n",
       "      <td>n</td>\n",
       "      <td>29.0</td>\n",
       "      <td>Cesarean</td>\n",
       "      <td>bd</td>\n",
       "      <td>eb</td>\n",
       "      <td>C</td>\n",
       "      <td>1.0</td>\n",
       "      <td>1.0</td>\n",
       "      <td>Cesarean.bd.n.1</td>\n",
       "      <td>Female</td>\n",
       "      <td>12</td>\n",
       "    </tr>\n",
       "  </tbody>\n",
       "</table>\n",
       "</div>"
      ],
      "text/plain": [
       "                 Distance antiexposedall  day_of_life  delivery diet diet_3  \\\n",
       "10249.C001.03SS  0.848675              n         42.0   Vaginal   bd     eb   \n",
       "10249.C002.02SS  0.618251              n         32.0  Cesarean   bd     eb   \n",
       "10249.C004.02SS  0.872569              n         31.0  Cesarean   bd     eb   \n",
       "10249.C005.03SS  0.814201              n         43.0  Cesarean   fd     fd   \n",
       "10249.C007.02SS  0.818699              n         30.0  Cesarean   bd     eb   \n",
       "10249.C008.02SS  0.693770              n         31.0   Vaginal   bd     eb   \n",
       "10249.C009.02SS  0.868335              n         31.0   Vaginal   bd     eb   \n",
       "10249.C010.03SS  0.500147              n         39.0   Vaginal   bd     eb   \n",
       "10249.C011.02SS  0.820382              n         36.0  Cesarean   fd     fd   \n",
       "10249.C012.02SS  0.565373              n         29.0  Cesarean   bd     eb   \n",
       "\n",
       "                mom_child  month  month_of_life   sample_summary     sex  \\\n",
       "10249.C001.03SS         C    1.0            1.4   Vaginal.bd.n.0  Female   \n",
       "10249.C002.02SS         C    1.0            1.1  Cesarean.bd.n.1    Male   \n",
       "10249.C004.02SS         C    1.0            1.0  Cesarean.bd.n.1    Male   \n",
       "10249.C005.03SS         C    1.0            1.4  Cesarean.fd.n.1  Female   \n",
       "10249.C007.02SS         C    1.0            1.0  Cesarean.bd.n.1    Male   \n",
       "10249.C008.02SS         C    1.0            1.0   Vaginal.bd.n.0    Male   \n",
       "10249.C009.02SS         C    1.0            1.0   Vaginal.bd.n.0    Male   \n",
       "10249.C010.03SS         C    1.0            1.3   Vaginal.fd.n.0    Male   \n",
       "10249.C011.02SS         C    1.0            1.2  Cesarean.fd.n.1  Female   \n",
       "10249.C012.02SS         C    1.0            1.0  Cesarean.bd.n.1  Female   \n",
       "\n",
       "                studyid  \n",
       "10249.C001.03SS       1  \n",
       "10249.C002.02SS       2  \n",
       "10249.C004.02SS       4  \n",
       "10249.C005.03SS       5  \n",
       "10249.C007.02SS       7  \n",
       "10249.C008.02SS       8  \n",
       "10249.C009.02SS       9  \n",
       "10249.C010.03SS      10  \n",
       "10249.C011.02SS      11  \n",
       "10249.C012.02SS      12  "
      ]
     },
     "execution_count": 173,
     "metadata": {},
     "output_type": "execute_result"
    }
   ],
   "source": [
    "# import the metadata\n",
    "mf = q2.Metadata.load('data/ecam-metadata.tsv').to_dataframe()\n",
    "# import the alpha-diversity\n",
    "alpha = q2.Artifact.load('data/ecam-first-distances.qza').view(q2.Metadata).to_dataframe()\n",
    "\n",
    "# merge the two data values\n",
    "data = pd.concat([alpha, mf], axis=1, sort=False)\n",
    "\n",
    "data.head(10)\n"
   ]
  },
  {
   "cell_type": "markdown",
   "metadata": {},
   "source": [
    "There are several measurements in this dataset but we will explore the birth mode effect. In the case of birth mode we want to set the \"normal\" group explicitly and treat the C-section birth as the \"treatment\" group. In order to transfer this to a formula we use the following notation:\n",
    "\n",
    "```python\n",
    "C(delivery, Treatment('Vaginal'))\n",
    "```\n",
    "\n",
    "Furthermore, we want to include the interaction of birth mode and time. This means we want to see if birth mode is discriminatory over all time or if there is an interaction with time. This gives us:\n",
    "\n",
    "```python\n",
    "Distance ~ month * C(delivery, Treatment('Vaginal'))\n",
    "```\n"
   ]
  },
  {
   "cell_type": "code",
   "execution_count": 174,
   "metadata": {},
   "outputs": [
    {
     "data": {
      "text/plain": [
       "\"Distance ~ month * C(delivery, Treatment('Vaginal'))\""
      ]
     },
     "execution_count": 174,
     "metadata": {},
     "output_type": "execute_result"
    }
   ],
   "source": [
    "fml = \"Distance ~ month * C(delivery, Treatment('Vaginal'))\"\n",
    "fml"
   ]
  },
  {
   "cell_type": "markdown",
   "metadata": {},
   "source": [
    "Now using statsmodel's LME implementation we will fit our model to the data."
   ]
  },
  {
   "cell_type": "code",
   "execution_count": 175,
   "metadata": {},
   "outputs": [
    {
     "name": "stderr",
     "output_type": "stream",
     "text": [
      "/Users/cmartino/miniconda3/envs/qiime2-2019.7/lib/python3.6/site-packages/statsmodels/regression/mixed_linear_model.py:2094: ConvergenceWarning: The MLE may be on the boundary of the parameter space.\n",
      "  warnings.warn(msg, ConvergenceWarning)\n"
     ]
    }
   ],
   "source": [
    "md = sm.MixedLM.from_formula(fml, data,\n",
    "                             groups = data[\"studyid\"],\n",
    "                             missing = 'drop')\n",
    "mdf = md.fit(method = 'lbfgs')\n"
   ]
  },
  {
   "cell_type": "markdown",
   "metadata": {},
   "source": [
    "First we should visualize the residuals."
   ]
  },
  {
   "cell_type": "code",
   "execution_count": 176,
   "metadata": {},
   "outputs": [
    {
     "data": {
      "image/png": "[encoded data removed]",
      "text/plain": [
       "<Figure size 360x360 with 1 Axes>"
      ]
     },
     "metadata": {
      "needs_background": "light"
     },
     "output_type": "display_data"
    }
   ],
   "source": [
    "fig, ax = plt.subplots(1,1,figsize=(5,5))\n",
    "\n",
    "_, (__, ___, r) = sp.stats.probplot(mdf.resid, plot=ax, fit=True)\n",
    "ax.annotate('$R^{2}$=%.2f'%(r**2), (.1,.8), fontsize=25\n",
    "            ,xycoords = 'axes fraction')\n",
    "ax.set_title('Residuals Plot',\n",
    "             fontsize=22)\n",
    "ax.set_xlabel('Theoretical',\n",
    "             fontsize=22,\n",
    "              c='black')\n",
    "ax.set_ylabel('Observed',\n",
    "              fontsize=22,\n",
    "              c='black')\n",
    "plt.show()"
   ]
  },
  {
   "cell_type": "markdown",
   "metadata": {},
   "source": [
    "The $R^{2}$ value looks good so now we should explore the other measures of model quality."
   ]
  },
  {
   "cell_type": "code",
   "execution_count": 177,
   "metadata": {},
   "outputs": [
    {
     "data": {
      "text/html": [
       "<div>\n",
       "<style scoped>\n",
       "    .dataframe tbody tr th:only-of-type {\n",
       "        vertical-align: middle;\n",
       "    }\n",
       "\n",
       "    .dataframe tbody tr th {\n",
       "        vertical-align: top;\n",
       "    }\n",
       "\n",
       "    .dataframe thead th {\n",
       "        text-align: right;\n",
       "    }\n",
       "</style>\n",
       "<table border=\"1\" class=\"dataframe\">\n",
       "  <thead>\n",
       "    <tr style=\"text-align: right;\">\n",
       "      <th></th>\n",
       "      <th>0</th>\n",
       "      <th>1</th>\n",
       "      <th>2</th>\n",
       "      <th>3</th>\n",
       "    </tr>\n",
       "  </thead>\n",
       "  <tbody>\n",
       "    <tr>\n",
       "      <th>0</th>\n",
       "      <td>Model:</td>\n",
       "      <td>MixedLM</td>\n",
       "      <td>Dependent Variable:</td>\n",
       "      <td>Distance</td>\n",
       "    </tr>\n",
       "    <tr>\n",
       "      <th>1</th>\n",
       "      <td>No. Observations:</td>\n",
       "      <td>583</td>\n",
       "      <td>Method:</td>\n",
       "      <td>REML</td>\n",
       "    </tr>\n",
       "    <tr>\n",
       "      <th>2</th>\n",
       "      <td>No. Groups:</td>\n",
       "      <td>42</td>\n",
       "      <td>Scale:</td>\n",
       "      <td>0.0248</td>\n",
       "    </tr>\n",
       "    <tr>\n",
       "      <th>3</th>\n",
       "      <td>Min. group size:</td>\n",
       "      <td>5</td>\n",
       "      <td>Likelihood:</td>\n",
       "      <td>233.1100</td>\n",
       "    </tr>\n",
       "    <tr>\n",
       "      <th>4</th>\n",
       "      <td>Max. group size:</td>\n",
       "      <td>20</td>\n",
       "      <td>Converged:</td>\n",
       "      <td>Yes</td>\n",
       "    </tr>\n",
       "    <tr>\n",
       "      <th>5</th>\n",
       "      <td>Mean group size:</td>\n",
       "      <td>13.9</td>\n",
       "      <td></td>\n",
       "      <td></td>\n",
       "    </tr>\n",
       "  </tbody>\n",
       "</table>\n",
       "</div>"
      ],
      "text/plain": [
       "                   0        1                    2         3\n",
       "0             Model:  MixedLM  Dependent Variable:  Distance\n",
       "1  No. Observations:      583              Method:      REML\n",
       "2        No. Groups:       42               Scale:    0.0248\n",
       "3   Min. group size:        5          Likelihood:  233.1100\n",
       "4   Max. group size:       20           Converged:       Yes\n",
       "5   Mean group size:     13.9                               "
      ]
     },
     "execution_count": 177,
     "metadata": {},
     "output_type": "execute_result"
    }
   ],
   "source": [
    "mdf.summary().tables[0]"
   ]
  },
  {
   "cell_type": "markdown",
   "metadata": {},
   "source": [
    " Let's look at the model results "
   ]
  },
  {
   "cell_type": "code",
   "execution_count": 178,
   "metadata": {},
   "outputs": [
    {
     "data": {
      "text/html": [
       "<div>\n",
       "<style scoped>\n",
       "    .dataframe tbody tr th:only-of-type {\n",
       "        vertical-align: middle;\n",
       "    }\n",
       "\n",
       "    .dataframe tbody tr th {\n",
       "        vertical-align: top;\n",
       "    }\n",
       "\n",
       "    .dataframe thead th {\n",
       "        text-align: right;\n",
       "    }\n",
       "</style>\n",
       "<table border=\"1\" class=\"dataframe\">\n",
       "  <thead>\n",
       "    <tr style=\"text-align: right;\">\n",
       "      <th></th>\n",
       "      <th>Coef.</th>\n",
       "      <th>Std.Err.</th>\n",
       "      <th>z</th>\n",
       "      <th>P&gt;|z|</th>\n",
       "      <th>[0.025</th>\n",
       "      <th>0.975]</th>\n",
       "    </tr>\n",
       "  </thead>\n",
       "  <tbody>\n",
       "    <tr>\n",
       "      <th>Intercept</th>\n",
       "      <td>0.445</td>\n",
       "      <td>0.015</td>\n",
       "      <td>30.472</td>\n",
       "      <td>0.000</td>\n",
       "      <td>0.416</td>\n",
       "      <td>0.473</td>\n",
       "    </tr>\n",
       "    <tr>\n",
       "      <th>C(delivery, Treatment('Vaginal'))[T.Cesarean]</th>\n",
       "      <td>0.030</td>\n",
       "      <td>0.023</td>\n",
       "      <td>1.302</td>\n",
       "      <td>0.193</td>\n",
       "      <td>-0.015</td>\n",
       "      <td>0.076</td>\n",
       "    </tr>\n",
       "    <tr>\n",
       "      <th>month</th>\n",
       "      <td>-0.006</td>\n",
       "      <td>0.001</td>\n",
       "      <td>-4.639</td>\n",
       "      <td>0.000</td>\n",
       "      <td>-0.008</td>\n",
       "      <td>-0.003</td>\n",
       "    </tr>\n",
       "    <tr>\n",
       "      <th>month:C(delivery, Treatment('Vaginal'))[T.Cesarean]</th>\n",
       "      <td>-0.004</td>\n",
       "      <td>0.002</td>\n",
       "      <td>-2.293</td>\n",
       "      <td>0.022</td>\n",
       "      <td>-0.008</td>\n",
       "      <td>-0.001</td>\n",
       "    </tr>\n",
       "    <tr>\n",
       "      <th>Group Var</th>\n",
       "      <td>0.000</td>\n",
       "      <td>0.001</td>\n",
       "      <td></td>\n",
       "      <td></td>\n",
       "      <td></td>\n",
       "      <td></td>\n",
       "    </tr>\n",
       "  </tbody>\n",
       "</table>\n",
       "</div>"
      ],
      "text/plain": [
       "                                                     Coef. Std.Err.       z  \\\n",
       "Intercept                                            0.445    0.015  30.472   \n",
       "C(delivery, Treatment('Vaginal'))[T.Cesarean]        0.030    0.023   1.302   \n",
       "month                                               -0.006    0.001  -4.639   \n",
       "month:C(delivery, Treatment('Vaginal'))[T.Cesar...  -0.004    0.002  -2.293   \n",
       "Group Var                                            0.000    0.001           \n",
       "\n",
       "                                                    P>|z|  [0.025  0.975]  \n",
       "Intercept                                           0.000   0.416   0.473  \n",
       "C(delivery, Treatment('Vaginal'))[T.Cesarean]       0.193  -0.015   0.076  \n",
       "month                                               0.000  -0.008  -0.003  \n",
       "month:C(delivery, Treatment('Vaginal'))[T.Cesar...  0.022  -0.008  -0.001  \n",
       "Group Var                                                                  "
      ]
     },
     "execution_count": 178,
     "metadata": {},
     "output_type": "execute_result"
    }
   ],
   "source": [
    "mdf.summary().tables[1]"
   ]
  },
  {
   "cell_type": "markdown",
   "metadata": {},
   "source": [
    "From these results we get the fixed effect of birth mode against the dependent variable of pairwise distance. From this we first inspect the coefficients and notice that group variance is almost zero. If the group coefficient is high it may mean that we are not accounting for some variability in the data. Second we look at the estimated standard errors, z scores, p-values (P>|z|), and 95% confidence interval upper and lower bounds for each parameter. From these we can observe that the p-value for birth mode is not significant. However, the interaction of time and birth mode is significant. This means that there is some change between birth mode over time but not across all time. \n",
    "\n",
    "In order to explore this further we can visualize the birth mode distance over time."
   ]
  },
  {
   "cell_type": "code",
   "execution_count": 171,
   "metadata": {},
   "outputs": [
    {
     "data": {
      "image/png": "[encoded data removed]",
      "text/plain": [
       "<Figure size 720x360 with 1 Axes>"
      ]
     },
     "metadata": {
      "needs_background": "light"
     },
     "output_type": "display_data"
    }
   ],
   "source": [
    "# set label font-sizes globally\n",
    "paper_rc = {'lines.linewidth': 2, \n",
    "            'lines.markersize': 10}                  \n",
    "sns.set_context(\"paper\", rc = paper_rc)   \n",
    "plt.rcParams['xtick.labelsize'] = 22 \n",
    "plt.rcParams['ytick.labelsize'] = 22\n",
    "\n",
    "fig, ax = plt.subplots(1,1, figsize=(10, 5))\n",
    "\n",
    "sns.lineplot(x='month',\n",
    "             y='Distance',\n",
    "             hue='delivery',\n",
    "             data = data,\n",
    "             ax = ax,\n",
    "             err_style = 'bars')\n",
    "\n",
    "ax.set_xlabel('Month',fontsize=35)\n",
    "ax.set_ylabel('Pairwise Distance',fontsize=35)\n",
    "\n",
    "ax.set_facecolor('white')\n",
    "ax.set_axisbelow(True)\n",
    "ax.spines['right'].set_visible(False)\n",
    "ax.spines['left'].set_visible(True)\n",
    "ax.spines['bottom'].set_visible(True)\n",
    "ax.spines['top'].set_visible(False)\n",
    "for child in ax.get_children():\n",
    "    if isinstance(child, matplotlib.spines.Spine):\n",
    "        child.set_color('grey')\n",
    "\n",
    "handles, labels = ax.get_legend_handles_labels()\n",
    "legend = ax.legend(handles[1:], labels[1:],\n",
    "            prop={'size':30}, loc=2, \n",
    "            bbox_to_anchor=(.50, 1.0),\n",
    "            fancybox=True, framealpha=0.8,ncol=1\n",
    "            , markerscale=1.1, facecolor=\"white\")\n",
    "\n",
    "plt.show()"
   ]
  },
  {
   "cell_type": "markdown",
   "metadata": {},
   "source": [
    "From this plot it is clear that we do have an interaction between birth mode over time and the pairwise distances because birth mode only separates after the 15th month of life. "
   ]
  },
  {
   "cell_type": "code",
   "execution_count": null,
   "metadata": {},
   "outputs": [],
   "source": []
  }
 ],
 "metadata": {
  "kernelspec": {
   "display_name": "Python 3",
   "language": "python",
   "name": "python3"
  },
  "language_info": {
   "codemirror_mode": {
    "name": "ipython",
    "version": 3
   },
   "file_extension": ".py",
   "mimetype": "text/x-python",
   "name": "python",
   "nbconvert_exporter": "python",
   "pygments_lexer": "ipython3",
   "version": "3.6.7"
  }
 },
 "nbformat": 4,
 "nbformat_minor": 2
}
