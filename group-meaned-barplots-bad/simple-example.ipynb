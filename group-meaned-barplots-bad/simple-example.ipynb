{
 "cells": [
  {
   "cell_type": "code",
   "execution_count": 158,
   "metadata": {},
   "outputs": [],
   "source": [
    "import numpy as np\n",
    "import pandas as pd\n",
    "from scipy.stats import norm\n",
    "import matplotlib.pyplot as plt\n",
    "from scipy.stats import pearsonr\n",
    "from numpy.random import poisson, lognormal\n",
    "from skbio.stats.composition import closure, clr\n",
    "from deicode.preprocessing import rclr\n",
    "from deicode.optspace import OptSpace\n",
    "from IPython.core.display import HTML\n",
    "import seaborn as sns\n",
    "import matplotlib\n",
    "%matplotlib inline"
   ]
  },
  {
   "cell_type": "code",
   "execution_count": 188,
   "metadata": {},
   "outputs": [
    {
     "data": {
      "text/html": [
       "<div>\n",
       "<style scoped>\n",
       "    .dataframe tbody tr th:only-of-type {\n",
       "        vertical-align: middle;\n",
       "    }\n",
       "\n",
       "    .dataframe tbody tr th {\n",
       "        vertical-align: top;\n",
       "    }\n",
       "\n",
       "    .dataframe thead th {\n",
       "        text-align: right;\n",
       "    }\n",
       "</style>\n",
       "<table border=\"1\" class=\"dataframe\">\n",
       "  <thead>\n",
       "    <tr style=\"text-align: right;\">\n",
       "      <th></th>\n",
       "      <th>s0</th>\n",
       "      <th>s1</th>\n",
       "      <th>s2</th>\n",
       "      <th>s3</th>\n",
       "      <th>s4</th>\n",
       "      <th>s5</th>\n",
       "      <th>s6</th>\n",
       "      <th>s7</th>\n",
       "      <th>s8</th>\n",
       "      <th>s9</th>\n",
       "    </tr>\n",
       "  </thead>\n",
       "  <tbody>\n",
       "    <tr>\n",
       "      <th>o0</th>\n",
       "      <td>12.214108</td>\n",
       "      <td>0.681501</td>\n",
       "      <td>29.211322</td>\n",
       "      <td>2.105115</td>\n",
       "      <td>16.104980</td>\n",
       "      <td>8.637396</td>\n",
       "      <td>2.924749</td>\n",
       "      <td>6.790694</td>\n",
       "      <td>1.018697</td>\n",
       "      <td>7.803033</td>\n",
       "    </tr>\n",
       "    <tr>\n",
       "      <th>o1</th>\n",
       "      <td>1.250901</td>\n",
       "      <td>4.994730</td>\n",
       "      <td>3.243802</td>\n",
       "      <td>20.175506</td>\n",
       "      <td>3.228610</td>\n",
       "      <td>4.849317</td>\n",
       "      <td>2.393114</td>\n",
       "      <td>16.859443</td>\n",
       "      <td>5.806778</td>\n",
       "      <td>20.890054</td>\n",
       "    </tr>\n",
       "    <tr>\n",
       "      <th>o2</th>\n",
       "      <td>9.017434</td>\n",
       "      <td>3.668268</td>\n",
       "      <td>1.551171</td>\n",
       "      <td>0.134449</td>\n",
       "      <td>1.461800</td>\n",
       "      <td>9.611080</td>\n",
       "      <td>15.675609</td>\n",
       "      <td>0.212618</td>\n",
       "      <td>24.186071</td>\n",
       "      <td>13.615704</td>\n",
       "    </tr>\n",
       "    <tr>\n",
       "      <th>o3</th>\n",
       "      <td>20.776934</td>\n",
       "      <td>23.314414</td>\n",
       "      <td>21.329686</td>\n",
       "      <td>10.878957</td>\n",
       "      <td>4.047357</td>\n",
       "      <td>9.641123</td>\n",
       "      <td>17.391142</td>\n",
       "      <td>16.831527</td>\n",
       "      <td>7.249136</td>\n",
       "      <td>5.804468</td>\n",
       "    </tr>\n",
       "    <tr>\n",
       "      <th>o4</th>\n",
       "      <td>2.829806</td>\n",
       "      <td>20.929698</td>\n",
       "      <td>7.563489</td>\n",
       "      <td>8.986529</td>\n",
       "      <td>19.953184</td>\n",
       "      <td>15.064696</td>\n",
       "      <td>13.090174</td>\n",
       "      <td>27.318719</td>\n",
       "      <td>12.232142</td>\n",
       "      <td>8.007334</td>\n",
       "    </tr>\n",
       "  </tbody>\n",
       "</table>\n",
       "</div>"
      ],
      "text/plain": [
       "           s0         s1         s2         s3         s4         s5  \\\n",
       "o0  12.214108   0.681501  29.211322   2.105115  16.104980   8.637396   \n",
       "o1   1.250901   4.994730   3.243802  20.175506   3.228610   4.849317   \n",
       "o2   9.017434   3.668268   1.551171   0.134449   1.461800   9.611080   \n",
       "o3  20.776934  23.314414  21.329686  10.878957   4.047357   9.641123   \n",
       "o4   2.829806  20.929698   7.563489   8.986529  19.953184  15.064696   \n",
       "\n",
       "           s6         s7         s8         s9  \n",
       "o0   2.924749   6.790694   1.018697   7.803033  \n",
       "o1   2.393114  16.859443   5.806778  20.890054  \n",
       "o2  15.675609   0.212618  24.186071  13.615704  \n",
       "o3  17.391142  16.831527   7.249136   5.804468  \n",
       "o4  13.090174  27.318719  12.232142   8.007334  "
      ]
     },
     "execution_count": 188,
     "metadata": {},
     "output_type": "execute_result"
    }
   ],
   "source": [
    "n_f = 10\n",
    "n_s = 10\n",
    "n_max = 500\n",
    "n_outlier = 5\n",
    "scale_ = 1.2\n",
    "\n",
    "rand = np.random.RandomState(42)\n",
    "X = np.random.randint(0, 100, (n_s, n_f))\n",
    "\n",
    "# add a major source of the grouping\n",
    "X[:, 0] = [n_max * scale_] * (n_outlier) + [n_max // scale_] * (n_s - n_outlier)\n",
    "X[:, n_f-1] = [n_max * scale_] * (n_s - n_outlier) + [n_max // scale_] * (n_outlier)\n",
    "# add some random noises\n",
    "err = scale_**40 * np.ones_like(X)\n",
    "X = abs(rand.normal(X, err))\n",
    "\n",
    "# sum constraint\n",
    "X = X * (100 / X.sum(axis=1).reshape(-1,1))\n",
    "df = pd.DataFrame(X).T\n",
    "df.columns = 's' + df.columns.astype(str)\n",
    "df.index = 'o' + df.index.astype(str)\n",
    "df.head(5)\n",
    "\n"
   ]
  },
  {
   "cell_type": "code",
   "execution_count": 197,
   "metadata": {},
   "outputs": [
    {
     "data": {
      "image/png": "[encoded data removed]",
      "text/plain": [
       "<Figure size 720x360 with 1 Axes>"
      ]
     },
     "metadata": {
      "needs_background": "light"
     },
     "output_type": "display_data"
    }
   ],
   "source": [
    "fig, axn = plt.subplots(1,1,figsize=(10,5))\n",
    "\n",
    "df.T.plot(kind='bar', stacked = True, legend=False, ax=axn)\n",
    "\n",
    "# remove all grids, backrounds etc ...\n",
    "axn.set_facecolor('white')\n",
    "axn.set_axisbelow(True)\n",
    "axn.spines['right'].set_visible(False)\n",
    "axn.spines['left'].set_visible(True)\n",
    "axn.spines['bottom'].set_visible(True)\n",
    "axn.spines['top'].set_visible(False)\n",
    "for child in axn.get_children():\n",
    "    if isinstance(child, matplotlib.spines.Spine):\n",
    "        child.set_color('grey')\n",
    "\n",
    "# save the figure to file\n",
    "plt.savefig('figs/all-stacked.pdf',dpi=600, \n",
    "            bbox_inches='tight',\n",
    "            facecolor=fig.get_facecolor(), \n",
    "            edgecolor='none')\n",
    "        \n",
    "plt.show()\n"
   ]
  },
  {
   "cell_type": "code",
   "execution_count": 198,
   "metadata": {},
   "outputs": [
    {
     "data": {
      "image/png": "[encoded data removed]",
      "text/plain": [
       "<Figure size 144x360 with 1 Axes>"
      ]
     },
     "metadata": {
      "needs_background": "light"
     },
     "output_type": "display_data"
    }
   ],
   "source": [
    "fig, axn = plt.subplots(1,1,figsize=(2,5))\n",
    "\n",
    "width = 0.35       # the width of the bars\n",
    "mg1_ = pd.DataFrame(df.iloc[:, :len(df.columns)//2].mean(axis=1)).values.flatten()\n",
    "mg2_ = pd.DataFrame(df.iloc[:, -len(df.columns)//2:].mean(axis=1)).values.flatten()\n",
    "\n",
    "stg1_ = pd.DataFrame(df.iloc[:, :len(df.columns)//2].std(axis=1)).values.flatten()\n",
    "stg2_ = pd.DataFrame(df.iloc[:, -len(df.columns)//2:].std(axis=1)).values.flatten()\n",
    "\n",
    "ind_ = pd.DataFrame(df.T.mean(axis=0)).index\n",
    "\n",
    "tot_means = (0, 0)\n",
    "for m1_, m2_, s1_, s2_ in zip(mg1_, mg2_, stg1_, stg2_):\n",
    "    axn.bar((0, 1), (m1_, m2_), width, bottom=tot_mean)\n",
    "    tot_mean += (m1_, m2_)\n",
    "\n",
    "axn.set_ylabel('Percent Abundance (%)')\n",
    "axn.set_title('Mean Grouped')\n",
    "plt.xticks([0, 1], ['$\\\\overline{Group\\,1}$',\n",
    "                    '$\\\\overline{Group\\,2}$'], fontsize=14)\n",
    "\n",
    "# remove all grids, backrounds etc ...\n",
    "axn.set_facecolor('white')\n",
    "axn.set_axisbelow(True)\n",
    "axn.spines['right'].set_visible(False)\n",
    "axn.spines['left'].set_visible(True)\n",
    "axn.spines['bottom'].set_visible(True)\n",
    "axn.spines['top'].set_visible(False)\n",
    "for child in axn.get_children():\n",
    "    if isinstance(child, matplotlib.spines.Spine):\n",
    "        child.set_color('grey')\n",
    "    \n",
    "\n",
    "# save the figure to file\n",
    "plt.savefig('figs/mean-grouped.pdf',dpi=600, \n",
    "            bbox_inches='tight',\n",
    "            facecolor=fig.get_facecolor(), \n",
    "            edgecolor='none')\n",
    "        \n",
    "plt.show()\n"
   ]
  },
  {
   "cell_type": "code",
   "execution_count": 235,
   "metadata": {
    "scrolled": true
   },
   "outputs": [
    {
     "data": {
      "image/png": "[encoded data removed]",
      "text/plain": [
       "<Figure size 144x360 with 1 Axes>"
      ]
     },
     "metadata": {
      "needs_background": "light"
     },
     "output_type": "display_data"
    }
   ],
   "source": [
    "fig, axn = plt.subplots(1,1,figsize=(2,5))\n",
    "\n",
    "width = 0.35       # the width of the bars\n",
    "mg1_ = pd.DataFrame(df.iloc[:, :len(df.columns)//2].mean(axis=1)).values.flatten()\n",
    "mg2_ = pd.DataFrame(df.iloc[:, -len(df.columns)//2:].mean(axis=1)).values.flatten()\n",
    "\n",
    "stg1_ = pd.DataFrame(df.iloc[:, :len(df.columns)//2].std(axis=1)).values.flatten()\n",
    "stg2_ = pd.DataFrame(df.iloc[:, -len(df.columns)//2:].std(axis=1)).values.flatten()\n",
    "\n",
    "ind_ = pd.DataFrame(df.T.mean(axis=0)).index\n",
    "\n",
    "tot_means = (0, 0)\n",
    "for m1_, m2_, s1_, s2_ in zip(mg1_, mg2_, stg1_, stg2_):\n",
    "    axn.bar((0, 1), (m1_, m2_), width, yerr=(s1_, s2_), bottom=tot_mean)\n",
    "    tot_mean += (m1_, m2_)\n",
    "\n",
    "axn.set_ylabel('Percent Abundance (%)')\n",
    "axn.set_title('Mean Grouped')\n",
    "plt.xticks([0, 1], ['$\\\\overline{Group\\,1}$',\n",
    "                    '$\\\\overline{Group\\,2}$'], fontsize=14)\n",
    "\n",
    "# remove all grids, backrounds etc ...\n",
    "axn.set_facecolor('white')\n",
    "axn.set_axisbelow(True)\n",
    "axn.spines['right'].set_visible(False)\n",
    "axn.spines['left'].set_visible(True)\n",
    "axn.spines['bottom'].set_visible(True)\n",
    "axn.spines['top'].set_visible(False)\n",
    "for child in axn.get_children():\n",
    "    if isinstance(child, matplotlib.spines.Spine):\n",
    "        child.set_color('grey')\n",
    "\n",
    "# save the figure to file\n",
    "plt.savefig('figs/std-grouped.pdf',dpi=600, \n",
    "            bbox_inches='tight',\n",
    "            facecolor=fig.get_facecolor(), \n",
    "            edgecolor='none')\n",
    "        \n",
    "plt.show()"
   ]
  },
  {
   "cell_type": "code",
   "execution_count": 208,
   "metadata": {
    "scrolled": true
   },
   "outputs": [
    {
     "data": {
      "image/png": "[encoded data removed]",
      "text/plain": [
       "<Figure size 720x360 with 1 Axes>"
      ]
     },
     "metadata": {
      "needs_background": "light"
     },
     "output_type": "display_data"
    }
   ],
   "source": [
    "fig, axn = plt.subplots(1,1,figsize=(10,5))\n",
    "\n",
    "df_group = pd.DataFrame(df.stack()).reset_index()\n",
    "df_group.columns = ['obs','samps','props']\n",
    "g1_ = sorted(set(df_group.samps))[:len(set(df_group.samps))//2]\n",
    "g2_ = sorted(set(df_group.samps))[-len(set(df_group.samps))//2:]\n",
    "df_group['groups'] = ['group 1' if i in g1_ else 'group 2' for i in df_group.samps]\n",
    "\n",
    "sns.barplot(x='obs',y='props', hue='groups', data=df_group, ax=axn, palette='gray')\n",
    "\n",
    "# remove all grids, backrounds etc ...\n",
    "axn.set_facecolor('white')\n",
    "axn.set_axisbelow(True)\n",
    "axn.spines['right'].set_visible(False)\n",
    "axn.spines['left'].set_visible(True)\n",
    "axn.spines['bottom'].set_visible(True)\n",
    "axn.spines['top'].set_visible(False)\n",
    "for child in axn.get_children():\n",
    "    if isinstance(child, matplotlib.spines.Spine):\n",
    "        child.set_color('grey')\n",
    "    \n",
    "axn.set_ylabel('Percent Abundance (%)')\n",
    "\n",
    "# save the figure to file\n",
    "plt.savefig('figs/sep-feat-std.pdf',dpi=600, \n",
    "            bbox_inches='tight',\n",
    "            facecolor=fig.get_facecolor(), \n",
    "            edgecolor='none')\n",
    "\n",
    "plt.show()\n"
   ]
  }
 ],
 "metadata": {
  "kernelspec": {
   "display_name": "Python 3",
   "language": "python",
   "name": "python3"
  },
  "language_info": {
   "codemirror_mode": {
    "name": "ipython",
    "version": 3
   },
   "file_extension": ".py",
   "mimetype": "text/x-python",
   "name": "python",
   "nbconvert_exporter": "python",
   "pygments_lexer": "ipython3",
   "version": "3.6.7"
  }
 },
 "nbformat": 4,
 "nbformat_minor": 2
}
